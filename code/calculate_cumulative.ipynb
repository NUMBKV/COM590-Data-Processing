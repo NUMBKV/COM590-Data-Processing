{
 "cells": [
  {
   "cell_type": "code",
   "execution_count": 1,
   "id": "63c6c9fe",
   "metadata": {},
   "outputs": [],
   "source": [
    "import pandas as pd\n",
    "import numpy as np\n",
    "import glob"
   ]
  },
  {
   "cell_type": "code",
   "execution_count": 2,
   "id": "4af51cd4",
   "metadata": {},
   "outputs": [
    {
     "name": "stdout",
     "output_type": "stream",
     "text": [
      "../remove_outlier_cases/median_filter/remove_outlier_indiana.csv\n"
     ]
    }
   ],
   "source": [
    "for file in glob.glob('../remove_outlier_cases/*/*.csv'):\n",
    "    print(file)\n",
    "    ori_data = pd.read_csv(file)\n",
    "    method = file.split('/')[-2]\n",
    "    state = file.split('/')[-1].split('.csv')[0].split('_')[-1]\n",
    "    date = '1/22/20'\n",
    "    remain_part = ori_data.iloc[:, :ori_data.columns.get_loc(date)]\n",
    "    detect_part = ori_data.loc[:, date:]\n",
    "\n",
    "    for row in range(len(detect_part)):\n",
    "        series = detect_part.iloc[row, :]\n",
    "        series = np.cumsum(series)\n",
    "        detect_part.iloc[row, :] = series\n",
    "    result = pd.concat([remain_part, detect_part], axis=1, join=\"inner\")\n",
    "    file_name = '../cumulative_remove_outlier_cases/' + method + '/cumulative_remove_outlier_' + state + '.csv'\n",
    "    result.to_csv(file_name, index = False)\n"
   ]
  }
 ],
 "metadata": {
  "kernelspec": {
   "display_name": "Python 3",
   "language": "python",
   "name": "python3"
  },
  "language_info": {
   "codemirror_mode": {
    "name": "ipython",
    "version": 3
   },
   "file_extension": ".py",
   "mimetype": "text/x-python",
   "name": "python",
   "nbconvert_exporter": "python",
   "pygments_lexer": "ipython3",
   "version": "3.6.13"
  }
 },
 "nbformat": 4,
 "nbformat_minor": 5
}
