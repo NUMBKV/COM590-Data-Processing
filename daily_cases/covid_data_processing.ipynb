{
 "nbformat": 4,
 "nbformat_minor": 0,
 "metadata": {
  "colab": {
   "name": "covid_data_processing.ipynb",
   "provenance": [],
   "collapsed_sections": []
  },
  "kernelspec": {
   "name": "python3",
   "display_name": "Python 3"
  },
  "language_info": {
   "name": "python"
  }
 },
 "cells": [
  {
   "cell_type": "code",
   "execution_count": 1,
   "metadata": {
    "id": "pZgKKFPQW1D8"
   },
   "outputs": [],
   "source": [
    "import pandas as pd\n",
    "\n",
    "data_source = 'https://raw.githubusercontent.com/CSSEGISandData/COVID-19/master/csse_covid_19_data/csse_covid_19_time_series/time_series_covid19_confirmed_US.csv'\n",
    "# generate daily data\n",
    "df = pd.read_csv(data_source)\n",
    "df_copy = df.copy()\n",
    "\n",
    "for i in range(12, len(df.columns)):\n",
    "  df_copy[df.columns[i]] = df[df.columns[i]] - df[df.columns[i-1]]\n",
    "\n",
    "df_copy.to_csv('new_daily_all.csv')"
   ]
  },
  {
   "cell_type": "code",
   "source": [
    "#aggregate data by state\n",
    "df = pd.read_csv('new_daily_all.csv')\n",
    "df = df.drop(df.columns[0:7], axis=1) \n",
    "df = df.drop(df.columns[1:5], axis=1) \n",
    "\n",
    "df_group = df.groupby(by='Province_State').sum()\n",
    "\n",
    "df_group.to_csv('new_daily_states.csv')"
   ],
   "metadata": {
    "id": "Y7F-5i8za-R8"
   },
   "execution_count": 3,
   "outputs": []
  },
  {
   "cell_type": "code",
   "source": [
    "!mkdir new_daily_states_county"
   ],
   "metadata": {
    "id": "BtgVh_S2z3EJ"
   },
   "execution_count": 4,
   "outputs": []
  },
  {
   "cell_type": "code",
   "source": [
    "# Split states into different files\n",
    "import os\n",
    "\n",
    "for i, x in df_copy.groupby('Province_State'):\n",
    "    p = os.path.join(os.getcwd(), \"new_daily_states_county/confirmed_cases_{}.csv\".format(i.lower()))\n",
    "    x.to_csv(p, index=False)"
   ],
   "metadata": {
    "id": "rqNZZ-bEwkJh"
   },
   "execution_count": 5,
   "outputs": []
  },
  {
   "cell_type": "code",
   "source": [
    "!zip -r new_daily_states_county.zip new_daily_states_county"
   ],
   "metadata": {
    "colab": {
     "base_uri": "https://localhost:8080/"
    },
    "id": "w-kDDmY50Hib",
    "outputId": "1fd08d41-25c0-4266-b0ab-fd50892a3ffb"
   },
   "execution_count": 6,
   "outputs": [
    {
     "output_type": "stream",
     "name": "stdout",
     "text": [
      "  adding: new_daily_states_county/ (stored 0%)\n",
      "  adding: new_daily_states_county/confirmed_cases_maryland.csv (deflated 66%)\n",
      "  adding: new_daily_states_county/confirmed_cases_hawaii.csv (deflated 71%)\n",
      "  adding: new_daily_states_county/confirmed_cases_iowa.csv (deflated 76%)\n",
      "  adding: new_daily_states_county/confirmed_cases_delaware.csv (deflated 67%)\n",
      "  adding: new_daily_states_county/confirmed_cases_pennsylvania.csv (deflated 66%)\n",
      "  adding: new_daily_states_county/confirmed_cases_montana.csv (deflated 77%)\n",
      "  adding: new_daily_states_county/confirmed_cases_northern mariana islands.csv (deflated 74%)\n",
      "  adding: new_daily_states_county/confirmed_cases_mississippi.csv (deflated 70%)\n",
      "  adding: new_daily_states_county/confirmed_cases_massachusetts.csv (deflated 66%)\n",
      "  adding: new_daily_states_county/confirmed_cases_north carolina.csv (deflated 67%)\n",
      "  adding: new_daily_states_county/confirmed_cases_california.csv (deflated 64%)\n",
      "  adding: new_daily_states_county/confirmed_cases_alaska.csv (deflated 78%)\n",
      "  adding: new_daily_states_county/confirmed_cases_kentucky.csv (deflated 70%)\n",
      "  adding: new_daily_states_county/confirmed_cases_michigan.csv (deflated 70%)\n",
      "  adding: new_daily_states_county/confirmed_cases_tennessee.csv (deflated 69%)\n",
      "  adding: new_daily_states_county/confirmed_cases_grand princess.csv (deflated 79%)\n",
      "  adding: new_daily_states_county/confirmed_cases_nevada.csv (deflated 74%)\n",
      "  adding: new_daily_states_county/confirmed_cases_west virginia.csv (deflated 71%)\n",
      "  adding: new_daily_states_county/confirmed_cases_new jersey.csv (deflated 62%)\n",
      "  adding: new_daily_states_county/confirmed_cases_diamond princess.csv (deflated 79%)\n",
      "  adding: new_daily_states_county/confirmed_cases_arkansas.csv (deflated 70%)\n",
      "  adding: new_daily_states_county/confirmed_cases_oregon.csv (deflated 71%)\n",
      "  adding: new_daily_states_county/confirmed_cases_south dakota.csv (deflated 78%)\n",
      "  adding: new_daily_states_county/confirmed_cases_idaho.csv (deflated 73%)\n",
      "  adding: new_daily_states_county/confirmed_cases_washington.csv (deflated 68%)\n",
      "  adding: new_daily_states_county/confirmed_cases_south carolina.csv (deflated 67%)\n",
      "  adding: new_daily_states_county/confirmed_cases_nebraska.csv (deflated 80%)\n",
      "  adding: new_daily_states_county/confirmed_cases_missouri.csv (deflated 71%)\n",
      "  adding: new_daily_states_county/confirmed_cases_virgin islands.csv (deflated 71%)\n",
      "  adding: new_daily_states_county/confirmed_cases_louisiana.csv (deflated 67%)\n",
      "  adding: new_daily_states_county/confirmed_cases_minnesota.csv (deflated 70%)\n",
      "  adding: new_daily_states_county/confirmed_cases_utah.csv (deflated 80%)\n",
      "  adding: new_daily_states_county/confirmed_cases_texas.csv (deflated 71%)\n",
      "  adding: new_daily_states_county/confirmed_cases_colorado.csv (deflated 72%)\n",
      "  adding: new_daily_states_county/confirmed_cases_maine.csv (deflated 70%)\n",
      "  adding: new_daily_states_county/confirmed_cases_vermont.csv (deflated 73%)\n",
      "  adding: new_daily_states_county/confirmed_cases_wyoming.csv (deflated 73%)\n",
      "  adding: new_daily_states_county/confirmed_cases_guam.csv (deflated 70%)\n",
      "  adding: new_daily_states_county/confirmed_cases_american samoa.csv (deflated 79%)\n",
      "  adding: new_daily_states_county/confirmed_cases_alabama.csv (deflated 67%)\n",
      "  adding: new_daily_states_county/confirmed_cases_arizona.csv (deflated 64%)\n",
      "  adding: new_daily_states_county/confirmed_cases_north dakota.csv (deflated 77%)\n",
      "  adding: new_daily_states_county/confirmed_cases_illinois.csv (deflated 69%)\n",
      "  adding: new_daily_states_county/confirmed_cases_new hampshire.csv (deflated 68%)\n",
      "  adding: new_daily_states_county/confirmed_cases_new mexico.csv (deflated 71%)\n",
      "  adding: new_daily_states_county/confirmed_cases_georgia.csv (deflated 69%)\n",
      "  adding: new_daily_states_county/confirmed_cases_oklahoma.csv (deflated 77%)\n",
      "  adding: new_daily_states_county/confirmed_cases_indiana.csv (deflated 68%)\n",
      "  adding: new_daily_states_county/confirmed_cases_ohio.csv (deflated 67%)\n",
      "  adding: new_daily_states_county/confirmed_cases_kansas.csv (deflated 79%)\n",
      "  adding: new_daily_states_county/confirmed_cases_district of columbia.csv (deflated 76%)\n",
      "  adding: new_daily_states_county/confirmed_cases_connecticut.csv (deflated 66%)\n",
      "  adding: new_daily_states_county/confirmed_cases_rhode island.csv (deflated 75%)\n",
      "  adding: new_daily_states_county/confirmed_cases_new york.csv (deflated 65%)\n",
      "  adding: new_daily_states_county/confirmed_cases_puerto rico.csv (deflated 74%)\n",
      "  adding: new_daily_states_county/confirmed_cases_florida.csv (deflated 70%)\n",
      "  adding: new_daily_states_county/confirmed_cases_wisconsin.csv (deflated 69%)\n",
      "  adding: new_daily_states_county/confirmed_cases_virginia.csv (deflated 70%)\n"
     ]
    }
   ]
  }
 ]
}